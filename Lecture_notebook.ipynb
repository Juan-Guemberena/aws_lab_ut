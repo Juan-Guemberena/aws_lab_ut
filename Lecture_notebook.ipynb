{
 "cells": [
  {
   "source": [
    "#### Please input your username (the one used for login) in the next cell. Then, run it with Shift+Enter (Shift+Return)."
   ],
   "cell_type": "markdown",
   "metadata": {}
  },
  {
   "cell_type": "code",
   "execution_count": null,
   "metadata": {},
   "outputs": [],
   "source": [
    "username = 'username'"
   ]
  },
  {
   "source": [
    "# Cross-Account vs Intra-Account Rules, and What is Root?"
   ],
   "cell_type": "markdown",
   "metadata": {}
  },
  {
   "cell_type": "markdown",
   "metadata": {},
   "source": [
    "In particular, what does the following mean when used as the principal in an IAM resource policy?"
   ]
  },
  {
   "cell_type": "markdown",
   "metadata": {},
   "source": [
    "\"Principal\": {\"AWS\": [\"arn:aws:iam::111122223333:root]}"
   ]
  },
  {
   "cell_type": "markdown",
   "metadata": {},
   "source": [
    "## Introduction\n",
    "\n",
    "This lab examines the difference between IAM vs AWS Resource based policies. In particular, we seek to understand the policy evaluation logic for S3 buckets with cross account access. For a refresher on IAM basics, see [Reference Policies Evaluation Logic](https://docs.aws.amazon.com/IAM/latest/UserGuide/reference_policies_evaluation-logic.html), which is valid for when the IAM Principal and S3 Resource are in the same AWS account.\n",
    "\n",
    "To summarize the above, if an action is allowed by an identity-based policy, a resource-based policy, or both, then AWS allows the action. An explicit deny in either of these policies overrides the allow.\n",
    "\n",
    "The situation changes for [cross account access](https://aws.amazon.com/premiumsupport/knowledge-center/cross-account-access-s3/). In this case, access must be explicitly allowed in both the principal's AWS access policy and the resource policy. Unfortunately, the latter reference does not mention the confused deputy issue for cross-account access which occurs when the trusted account is a 3rd party SaaS vendor. As a result, many vendors which operate on customer's S3 buckets do so insecurely.\n",
    "\n",
    "For this lab, we will assume both AWS accounts are owned by the same entity and will leave confused deputy issues for Lab 4 - Direct Access vs Assume Role: Granting cross account access to resources."
   ]
  },
  {
   "cell_type": "markdown",
   "metadata": {},
   "source": [
    "<img src=\"s3-cross-account.png\" class=\"left\"/>"
   ]
  },
  {
   "cell_type": "markdown",
   "metadata": {},
   "source": [
    "Granting permissions for Principal-A to access Resource-B when both are in the same account can be done by giving Principal-A a permissions policy to access Resource-B. Alternatively, cross-account access could be granted in a resource policy such as the following bucket policy."
   ]
  },
  {
   "cell_type": "raw",
   "metadata": {},
   "source": [
    "# demo_policy.json\n",
    "{\n",
    "  \"Version\":\"2012-10-17\",\n",
    "  \"Statement\":[\n",
    "    {\n",
    "      \"Sid\":\"AddCrossAccountPutPolicy\",\n",
    "      \"Effect\":\"Allow\",\n",
    "      \"Principal\": {\"AWS\": [\"arn:aws:iam::444455556666:root\"]},\n",
    "      \"Action\":[\"s3:PutObject\",\"s3:GetObject\",\"s3:ListBucket\"],\n",
    "      \"Resource\":[\"arn:aws:s3:::mybucket/*\", \"arn:aws:s3:::mybucket\"],\n",
    "        \"Condition\": {\n",
    "          \"IpAddress\": {\n",
    "            \"aws:SourceIp\": [\n",
    "              \"54.240.143.0/24\",\n",
    "              \"54.240.144.0/24\"\n",
    "            ]\n",
    "          }\n",
    "        }\n",
    "      }\n",
    "    ]\n",
    "}"
   ]
  },
  {
   "cell_type": "markdown",
   "metadata": {},
   "source": [
    "In this lab, there are S3 buckets we will refer to as bucket 1 through 5. Buckets 1, 2 and 4 are in the same accounts as the roles, and 3 and 5 are in a different account.\n",
    "All roles shown below will have similar permissions policies which allows them to access generic S3 resources, and we'll be showing those along the way."
   ]
  },
  {
   "cell_type": "markdown",
   "metadata": {},
   "source": [
    "This lab would require having admin access to two AWS accounts, but in this case we have already created all the necessary resources."
   ]
  },
  {
   "cell_type": "markdown",
   "metadata": {},
   "source": [
    "These include an IAM user that can assume the necessary roles to perform all the actions, and the buckets we'll be accessing. But how are we going to do that? Well, we've written a function for this. It's in a script called aws_run_as.sh, and we'll run it as necessary. But first, we need to set up our credentials. To do this, simply run the next cell and everything will be set up for you. Remember, Shift+Enter / Shift+Return to run cells."
   ]
  },
  {
   "cell_type": "code",
   "execution_count": null,
   "metadata": {
    "scrolled": true
   },
   "outputs": [],
   "source": [
    "!aws configure set aws_access_key_id  ${username}_AWS_KEY --profile lab2\n",
    "!aws configure set aws_secret_access_key ${username}_AWS_SECRET_KEY --profile lab2\n",
    "!aws configure set region us-east-1\n",
    "!aws configure set output json\n",
    "!chmod a+x aws_run_as.sh\n",
    "roleA = username+'-role-A'\n",
    "roleB = username+'-role-B'"
   ]
  },
  {
   "cell_type": "markdown",
   "metadata": {},
   "source": [
    "Our function can be called like this:\n",
    "\n",
    "```!./aws_run_as.sh --profile [profile] [role] (aws command args)```\n",
    "\n",
    "This does the magic of using user/service credentials in \"profile\" to \n",
    "assume \"role\" and then run commands. Without this function, you have to get the response \n",
    "for assume-role and put them into environment variables or ~/.aws/credentials profile each time\n",
    "as described [here](https://docs.aws.amazon.com/cli/latest/userguide/cli-configure-role.html). \n",
    "This is a very new beta script so drop into a bash shell if anything goes wrong."
   ]
  },
  {
   "cell_type": "markdown",
   "metadata": {},
   "source": [
    "Now, let's test it!"
   ]
  },
  {
   "cell_type": "code",
   "execution_count": null,
   "metadata": {
    "scrolled": false
   },
   "outputs": [],
   "source": [
    "!./aws_run_as.sh --profile lab2 $roleA sts get-caller-identity"
   ]
  },
  {
   "cell_type": "markdown",
   "metadata": {},
   "source": [
    "This should return an assumed role with the name username-role-A, the account it's in, and its ARN. If it doesn't, check your username was spelled correctly."
   ]
  },
  {
   "cell_type": "markdown",
   "metadata": {},
   "source": [
    "# Exercises"
   ]
  },
  {
   "cell_type": "markdown",
   "metadata": {},
   "source": [
    "## 1. Before we begin\n",
    "So far, policies and roles were created. \n",
    "When we create a role, we must include the assume-role \n",
    "trust policy which says who can assume the role. Then, we either attach (if it's an AWS policy) or put (if it's our policy) a permissions policy, which says what that role can do, and where."
   ]
  },
  {
   "cell_type": "markdown",
   "metadata": {},
   "source": [
    "## 2. Check that a role with no permissions can access a bucket with the right bucket policy"
   ]
  },
  {
   "cell_type": "markdown",
   "metadata": {},
   "source": [
    "Let's review bucket1's policy."
   ]
  },
  {
   "cell_type": "raw",
   "metadata": {},
   "source": [
    "{\n",
    "    \"Statement\": [\n",
    "        {\n",
    "            \"Action\": [\n",
    "                \"s3:GetObject\",\n",
    "                \"s3:ListBucket\"\n",
    "            ],\n",
    "            \"Effect\": \"Allow\",\n",
    "            \"Principal\": {\n",
    "                \"AWS\": [\n",
    "                    \"arn:aws:iam::111111111111:root\",\n",
    "                    \"arn:aws:iam::111111111111:role/username-role-B\"\n",
    "                ]\n",
    "            },\n",
    "            \"Resource\": [\n",
    "                \"arn:aws:s3:::bucket1/*\",\n",
    "                \"arn:aws:s3:::bucket1\"\n",
    "            ],\n",
    "            \"Sid\": \"AssumeRolePolicyForS3ReaderRoleA\"\n",
    "        }\n",
    "    ],\n",
    "    \"Version\": \"2012-10-17\"\n",
    "}"
   ]
  },
  {
   "cell_type": "markdown",
   "metadata": {},
   "source": [
    "This policy is allowing the root of the account and roleB access to bucket1.\n",
    "But what does that mean in practice? Take into account that neither of the roles has explicit permission in their policies to access bucket1."
   ]
  },
  {
   "cell_type": "code",
   "execution_count": null,
   "metadata": {},
   "outputs": [],
   "source": [
    "!./aws_run_as.sh --profile lab2 $roleA s3 ls s3://{bucket1.s}"
   ]
  },
  {
   "cell_type": "markdown",
   "metadata": {},
   "source": [
    "Expect\n",
    "\n",
    "An error occurred (AccessDenied) when calling the ListObjects operation: Access Denied"
   ]
  },
  {
   "cell_type": "code",
   "execution_count": null,
   "metadata": {},
   "outputs": [],
   "source": [
    "!./aws_run_as.sh --profile lab2 $roleB s3 ls s3://$username-bucket-1"
   ]
  },
  {
   "cell_type": "markdown",
   "metadata": {},
   "source": [
    "### Conclusion\n",
    "Allowing \"root\" on an S3 policy does not grant access to all principals in the account. However, explicitly allowing a role in the S3 policy permits access even if the role has no attached permissions. This is what we mean when we say \"If the principal and the resource are in the same account, permission is the union of policies attached to the resource and principal.\""
   ]
  },
  {
   "cell_type": "markdown",
   "metadata": {},
   "source": [
    "## 3. Can a role with permissions access a bucket with no bucket policy?"
   ]
  },
  {
   "cell_type": "markdown",
   "metadata": {},
   "source": [
    "Now, let's review roleA's permission policy regarding bucket2."
   ]
  },
  {
   "cell_type": "raw",
   "metadata": {},
   "source": [
    "{\n",
    "    \"Version\": \"2012-10-17\",\n",
    "    \"Statement\": [\n",
    "        {\n",
    "            \"Action\": [\n",
    "                \"s3:GetObject\",\n",
    "                \"s3:ListBucket\"\n",
    "            ],\n",
    "            \"Effect\": \"Allow\",\n",
    "            \"Resource\": [\n",
    "                \"arn:aws:s3:::bucket2/*\",\n",
    "                \"arn:aws:s3:::bucket2\",\n",
    "                ...\n",
    "            ]\n",
    "        },\n",
    "        ...\n",
    "    ]\n",
    "}"
   ]
  },
  {
   "cell_type": "markdown",
   "metadata": {},
   "source": [
    "Note that bucket2 has no bucket policy attached to it, meaning that it is neither allowing nor blocking roleA's access to it. Do you think we'll be able to access it?\n",
    "Let's try."
   ]
  },
  {
   "cell_type": "code",
   "execution_count": null,
   "metadata": {},
   "outputs": [],
   "source": [
    "!./aws_run_as.sh --profile lab2 $roleA s3 ls s3://$username-bucket-"
   ]
  },
  {
   "cell_type": "markdown",
   "metadata": {},
   "source": [
    "### Conclusion\n",
    "\n",
    "We confirmed that an IAM policy attached to a role is all that is required to access a bucket, further supporting the \"Union within an account\" rule."
   ]
  },
  {
   "cell_type": "markdown",
   "metadata": {},
   "source": [
    "## 4. Can a role with explicit IAM policy permission to access mybucket3 in a different account access it?"
   ]
  },
  {
   "cell_type": "markdown",
   "metadata": {},
   "source": [
    "Now, we want to test if we can access bucket3 in a different account by putting a specific role policy that allows us to do just that.\n",
    "\n",
    "Let's review mybucket3's policy."
   ]
  },
  {
   "cell_type": "raw",
   "metadata": {},
   "source": [
    "{\n",
    "    \"Statement\": [\n",
    "        {\n",
    "            \"Action\": [\n",
    "                \"s3:GetObject\",\n",
    "                \"s3:ListBucket\"\n",
    "            ],\n",
    "            \"Effect\": \"Allow\",\n",
    "            \"Principal\": {\n",
    "                \"AWS\": [\n",
    "                    \"arn:aws:iam::111111111111:root\",\n",
    "                    \"arn:aws:iam::111111111111:role/username-role-B\"\n",
    "                ]\n",
    "            },\n",
    "            \"Resource\": [\n",
    "                \"arn:aws:s3:::bucket3/*\",\n",
    "                \"arn:aws:s3:::bucket3\"\n",
    "            ],\n",
    "            \"Sid\": \"BucketPolicyForS3MyBucket3\"\n",
    "        }\n",
    "    ],\n",
    "    \"Version\": \"2012-10-17\"\n",
    "}"
   ]
  },
  {
   "cell_type": "markdown",
   "metadata": {},
   "source": [
    "This policy is very similar to bucket1's policy, but it's located in a different account, so it behaves differently.\n",
    "\n",
    "In this case, roleA has permission to access, and roleB doesn't. It shouldn't matter though, since roleB is explicitly allowed in the bucket policy. Or should it?\n",
    "\n",
    "Let's test it out with both roles."
   ]
  },
  {
   "cell_type": "code",
   "execution_count": null,
   "metadata": {},
   "outputs": [],
   "source": [
    "!./aws_run_as.sh --profile lab2 $roleA s3 ls s3://$username-bucket-3"
   ]
  },
  {
   "cell_type": "code",
   "execution_count": null,
   "metadata": {},
   "outputs": [],
   "source": [
    "!./aws_run_as.sh --profile lab2 $roleB s3 ls s3://$username-bucket-"
   ]
  },
  {
   "cell_type": "markdown",
   "metadata": {},
   "source": [
    "What happened? We can access from roleA, which isn't allowed in the bucket policy, but not from roleB, which is.\n",
    "\n",
    "This is because bucket3 trusts the root of our account, which means that it trusts the admin of our account to assign s3 permissions, INCLUDING accessing other accounts.\n",
    "\n",
    "This result is not consistent with the result when the role and s3 bucket are in the same account. For cross-account, even when an s3 bucket explicitly names a resource from another account, the role must also have the permission attached."
   ]
  },
  {
   "cell_type": "markdown",
   "metadata": {},
   "source": [
    "### Conclusion\n",
    "\n",
    "We couldn't access a bucket in another account without an explicit allow inside the bucket policy AND the IAM permissions policy. That is perfectly fine, since if it let us, we could access any bucket in any account just by knowing the bucket's name."
   ]
  },
  {
   "cell_type": "markdown",
   "metadata": {},
   "source": [
    "# 5. The necessity of explicit Deny statements"
   ]
  },
  {
   "cell_type": "markdown",
   "metadata": {},
   "source": [
    "What if you wish to only allow roleA and no other principal access to mybucket4? You might try to apply granular roles to all principals in your account so that you never granted access to resource * for s3 operations to any principal. This is difficult to enforce. A better way is to apply an explicit Deny to all principals except roleA in bucket4's policy."
   ]
  },
  {
   "cell_type": "markdown",
   "metadata": {},
   "source": [
    "For that, we'll need to review bucket4's policy"
   ]
  },
  {
   "cell_type": "raw",
   "metadata": {},
   "source": [
    "{\n",
    "\t\"Version\": \"2012-10-17\",\n",
    "\t\"Statement\": [\n",
    "        {\n",
    "\t\t\t\"Effect\": \"Deny\",\n",
    "\t\t\t\"Principal\": \"*\",\n",
    "\t\t\t\"Action\": \"s3:*\",\n",
    "\t\t\t\"Resource\": [\n",
    "                \"arn:aws:s3:::bucket4/*\",\n",
    "\t\t\t\t\"arn:aws:s3:::bucket4\"\n",
    "\t\t\t],\n",
    "\t\t\t\"Condition\":{\n",
    "\t\t\t\t\"StringNotLike\":{\n",
    "\t\t\t\t\t\"aws:userId\":[\n",
    "\t\t\t\t\t\t\"AROAEXAMPLEID:*\",\n",
    "\t\t\t\t\t\t\"111111111111\"\n",
    "\t\t\t\t\t]\n",
    "\t\t\t\t}\n",
    "\t\t\t}\n",
    "\t\t}\n",
    "\t]\n",
    "}"
   ]
  },
  {
   "cell_type": "markdown",
   "metadata": {},
   "source": [
    "In this case, both roles have permissions in their policies to access bucket4, but we should only be able to do it from roleA. Let's test."
   ]
  },
  {
   "cell_type": "code",
   "execution_count": null,
   "metadata": {},
   "outputs": [],
   "source": [
    "!./aws_run_as.sh --profile lab2 $roleB s3 ls s3://$username-bucket-"
   ]
  },
  {
   "cell_type": "code",
   "execution_count": null,
   "metadata": {},
   "outputs": [],
   "source": [
    "!./aws_run_as.sh --profile lab2 $roleA s3 ls s3://$username-bucket-"
   ]
  },
  {
   "cell_type": "markdown",
   "metadata": {},
   "source": [
    "### Conclusion\n",
    "If we need to, we can create a bucket policy that denies permission to all principals, except the one we want, which is good for scalability and security best practices"
   ]
  },
  {
   "cell_type": "markdown",
   "metadata": {},
   "source": [
    "# Congratulations! \n",
    "\n",
    "You've completed Lab2. Or have you...?\n",
    "\n",
    "We'll sumarize the results so far as follows:\n",
    "\n",
    "* When a role and resource are in the same account permssion is granted if either the role or resource grants access. This is called union.\n",
    "\n",
    "* When a role and resource are in different accounts, permission must be granted by both the role and the resource. This is called intersection."
   ]
  },
  {
   "cell_type": "markdown",
   "metadata": {},
   "source": [
    "# Now comes a challenge...\n",
    "\n",
    "Notice that we haven't talked about bucket5? Well, that's because bucket5 is an optional challenge you can try to solve (if you feel you can, that's it).\n",
    "\n",
    "For this challenge you'll need to know three things:\n",
    "\n",
    "* The bucket's name is correlated to your username\n",
    "\n",
    "* The bucket's permissions are divorced\n",
    "\n",
    "* In order to download an item from a bucket, you do something like the following, where you specify what you want to download (using the cp command) and the name you want to give it after it downloads\n",
    "\n",
    "```!./aws_run_as.sh --profile lab2 $roleA s3 cp s3://exampleusername-bucket-4/example.txt example.txt```\n",
    "\n",
    "Use the cells below to write the necessary commands. If you need to, you can add more cells by pressing A or B on your keyboard when the selected cell is blue."
   ]
  },
  {
   "cell_type": "code",
   "execution_count": null,
   "metadata": {},
   "outputs": [],
   "source": []
  },
  {
   "cell_type": "code",
   "execution_count": null,
   "metadata": {},
   "outputs": [],
   "source": []
  },
  {
   "cell_type": "code",
   "execution_count": null,
   "metadata": {},
   "outputs": [],
   "source": []
  }
 ],
 "metadata": {
  "kernelspec": {
   "name": "python3",
   "display_name": "Python 3.7.0 64-bit",
   "metadata": {
    "interpreter": {
     "hash": "0600588c3b5f4418cbe7b5ebc6825b479f3bc010269d8b60d75058cdd010adfe"
    }
   }
  },
  "language_info": {
   "codemirror_mode": {
    "name": "ipython",
    "version": 3
   },
   "file_extension": ".py",
   "mimetype": "text/x-python",
   "name": "python",
   "nbconvert_exporter": "python",
   "pygments_lexer": "ipython3",
   "version": "3.7.0-final"
  }
 },
 "nbformat": 4,
 "nbformat_minor": 1
}